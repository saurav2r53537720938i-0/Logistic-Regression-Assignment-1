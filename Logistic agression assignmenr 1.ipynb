{
 "cells": [
  {
   "cell_type": "markdown",
   "id": "07d0054f-13dd-4f41-bbe8-612a1dc51289",
   "metadata": {},
   "source": [
    "Linear regression and logistic regression are both technique used in statistcal modeling but they serve diffrent purpose and are suited for diffrent types of data.\n",
    "1. Linear Regression: Linear regression is used when the dependent variable is continous and the relationship between the independent and dependent variable is linear.It predicts the value of the dependent variable based on the value of indpendent variable.\n",
    "2. Logistic Regression:Logistic regression is used when the dependent variable is categorical with two or more categories and the relationship between the independent variable and categorical outcome is non-linear.It predicts the probality that a given observation belong to a particular category"
   ]
  },
  {
   "cell_type": "markdown",
   "id": "7d6e2666-f243-483c-8ffe-d05fc3146fd1",
   "metadata": {},
   "source": [
    "In logistic regression the cost function used is the logistic loss function also know as the cross-entropy loss function.The formulaa for the logistic loss function is:The goal of optimization in logistic regression is to minimize this cost function.Tgis typically done using optimization alogorthims like gradient descent or its variants such as stochastic gradient descent(SGD) or mini-batch gradient descent."
   ]
  },
  {
   "cell_type": "markdown",
   "id": "dda0e034-953f-4b21-90d0-07003f9348f4",
   "metadata": {},
   "source": [
    "Regularization in logistic regression is a technique used to prvent overfitting by adding a penalty term to the cost function.Overfitting occurs when the model capture noise in the traning data and performs poorly on unseen data.Regularization helps to genreraliza the model by discouraging overly complex models with large paramter value\n",
    "1. L1 Regularization\n",
    "2. L2 Regularization"
   ]
  },
  {
   "cell_type": "markdown",
   "id": "a2a56b71-0de2-46b0-9755-ebfe70b5263e",
   "metadata": {},
   "source": [
    "An ROC(reciver operating characterstics ) curve is grapical reprsentation of the performance of a logistic binary classfication model.it plots the true postive rate against the false postive rate(1-specificity) for evaluating the performance of a logistic Regression model the ROC curve helps in assesing how well the model can distinguish between the two classes .A higher area under the ROC curve indicates better perfomance random guessing and an AUC of 1 indicating perfect guessing and an AUC of 1 indicating"
   ]
  },
  {
   "cell_type": "markdown",
   "id": "53cf9475-39c5-4edb-9d0c-470afef9effe",
   "metadata": {},
   "source": [
    "Some common technique for feature slection in logistic regression include:\n",
    "1. Forward Slection\n",
    "2. Backward Elimination\n",
    "3. Stepwise Slection\n",
    "4. Lasso(L1 Regularizartion)\n",
    "5. Ridge(L2Regularization)\n",
    "These technique help improve model performance by reducing overfitting decreasingg compuational complexity and enhancing model interpret"
   ]
  },
  {
   "cell_type": "markdown",
   "id": "f86914b1-450a-4f70-a8ed-10a8dd81e3ba",
   "metadata": {},
   "source": [
    "Handling imbalnced dataset in logistic regression is crucial to enusre that the model can effectively learn from the miniority class.Here are some stragies for dealing with class imbalance:\n",
    "1. Resampling Technique\n",
    "2. Alogarthmic Apporaches\n",
    "3. Ensemble Methods\n",
    "4. Evaluation Metrics\n",
    "5. Data Preprocessing\n",
    "6. Advanced Technique"
   ]
  },
  {
   "cell_type": "code",
   "execution_count": null,
   "id": "8d804b00-b608-4779-a675-261ba05dd882",
   "metadata": {},
   "outputs": [],
   "source": []
  }
 ],
 "metadata": {
  "kernelspec": {
   "display_name": "Python 3 (ipykernel)",
   "language": "python",
   "name": "python3"
  },
  "language_info": {
   "codemirror_mode": {
    "name": "ipython",
    "version": 3
   },
   "file_extension": ".py",
   "mimetype": "text/x-python",
   "name": "python",
   "nbconvert_exporter": "python",
   "pygments_lexer": "ipython3",
   "version": "3.10.8"
  }
 },
 "nbformat": 4,
 "nbformat_minor": 5
}
